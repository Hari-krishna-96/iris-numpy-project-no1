{
 "cells": [
  {
   "cell_type": "code",
   "execution_count": 1,
   "metadata": {},
   "outputs": [],
   "source": [
    "import pandas as pd\n",
    "import numpy as np\n",
    "import math\n",
    "import operator"
   ]
  },
  {
   "cell_type": "code",
   "execution_count": 2,
   "metadata": {},
   "outputs": [],
   "source": [
    "col=['sepal_length','sepal_width','petal_length','petal_width','type']\n",
    "iris=pd.read_csv(\"https://raw.githubusercontent.com/saireddyavs/machine-learning/master/iris.xlsx\",names=col)"
   ]
  },
  {
   "cell_type": "code",
   "execution_count": 3,
   "metadata": {},
   "outputs": [
    {
     "name": "stdout",
     "output_type": "stream",
     "text": [
      "First five rows\n",
      "   sepal_length  sepal_width  petal_length  petal_width         type\n",
      "0           5.1          3.5           1.4          0.2  Iris-setosa\n",
      "1           4.9          3.0           1.4          0.2  Iris-setosa\n",
      "2           4.7          3.2           1.3          0.2  Iris-setosa\n",
      "3           4.6          3.1           1.5          0.2  Iris-setosa\n",
      "4           5.0          3.6           1.4          0.2  Iris-setosa\n",
      "*********\n",
      "columns Index(['sepal_length', 'sepal_width', 'petal_length', 'petal_width', 'type'], dtype='object')\n",
      "*********\n",
      "shape: (150, 5)\n",
      "*********\n",
      "Size: 750\n",
      "*********\n",
      "no of samples available for each type\n",
      "Iris-virginica     50\n",
      "Iris-versicolor    50\n",
      "Iris-setosa        50\n",
      "Name: type, dtype: int64\n",
      "*********\n",
      "       sepal_length  sepal_width  petal_length  petal_width\n",
      "count    150.000000   150.000000    150.000000   150.000000\n",
      "mean       5.843333     3.054000      3.758667     1.198667\n",
      "std        0.828066     0.433594      1.764420     0.763161\n",
      "min        4.300000     2.000000      1.000000     0.100000\n",
      "25%        5.100000     2.800000      1.600000     0.300000\n",
      "50%        5.800000     3.000000      4.350000     1.300000\n",
      "75%        6.400000     3.300000      5.100000     1.800000\n",
      "max        7.900000     4.400000      6.900000     2.500000\n"
     ]
    }
   ],
   "source": [
    "print(\"First five rows\")\n",
    "print(iris.head())\n",
    "print(\"*********\")\n",
    "print(\"columns\",iris.columns)\n",
    "print(\"*********\")\n",
    "print(\"shape:\",iris.shape)\n",
    "print(\"*********\")\n",
    "print(\"Size:\",iris.size)\n",
    "print(\"*********\")\n",
    "print(\"no of samples available for each type\")\n",
    "print(iris['type'].value_counts())\n",
    "print(\"*********\")\n",
    "print(iris.describe())"
   ]
  },
  {
   "cell_type": "code",
   "execution_count": 20,
   "metadata": {},
   "outputs": [],
   "source": [
    "def euclidianDistance(data1, data2, length):\n",
    "    distance = 0\n",
    "    for x in range(length):\n",
    "        distance += np.square(data1[x] - data2[x])\n",
    "       \n",
    "    return np.sqrt(distance)"
   ]
  },
  {
   "cell_type": "code",
   "execution_count": 21,
   "metadata": {},
   "outputs": [],
   "source": [
    "trainingSet = iris[:150]\n",
    "testInstance = iris[-30:]"
   ]
  },
  {
   "cell_type": "code",
   "execution_count": 23,
   "metadata": {},
   "outputs": [
    {
     "name": "stdout",
     "output_type": "stream",
     "text": [
      "5\n"
     ]
    }
   ],
   "source": [
    "def knn(trainingSet, testInstance, k):\n",
    " \n",
    "    distances = {}\n",
    "    sort = {}\n",
    "    \n",
    "length = testInstance.shape[1]\n",
    "print(length)"
   ]
  },
  {
   "cell_type": "code",
   "execution_count": 24,
   "metadata": {},
   "outputs": [],
   "source": [
    "def euclidianDistance(data1, data2, length):\n",
    "    distance = 0\n",
    "    for x in range(length):\n",
    "        distance += np.square(data1[x] - data2[x])\n",
    "       \n",
    "    return np.sqrt(distance)\n",
    "\n",
    "def knn(trainingSet, testInstance, k):\n",
    " \n",
    "    distances = {}\n",
    "    sort = {}\n",
    "    length = testInstance.shape[1]\n",
    "    print(length)\n",
    "    \n",
    "    \n",
    "    # Calculating euclidean distance between each row of training data and test data\n",
    "    for x in range(len(trainingSet)):\n",
    "        \n",
    "       \n",
    "        dist = euclidianDistance(testInstance, trainingSet.iloc[x], length)\n",
    "        distances[x] = dist[0]\n",
    "       \n",
    " \n",
    "    \n",
    "    # Sorting them on the basis of distance\n",
    "    sorted_d = sorted(distances.items(), key=operator.itemgetter(1)) #by using it we store indices also\n",
    "    sorted_d1 = sorted(distances.items())\n",
    "    print(sorted_d[:5])\n",
    "    print(sorted_d1[:5])\n",
    "\n",
    " \n",
    "    neighbors = []\n",
    "    \n",
    "    \n",
    "    # Extracting top k neighbors\n",
    "    for x in range(k):\n",
    "        neighbors.append(sorted_d[x][0])\n",
    "    \n",
    "    counts = {\"Iris-setosa\":0,\"Iris-versicolor\":0,\"Iris-virginica\":0}\n",
    "    \n",
    "    \n",
    "    # Calculating the most freq class in the neighbors\n",
    "    for x in range(len(neighbors)):\n",
    "        response = trainingSet.iloc[neighbors[x]][-1]\n",
    " \n",
    "        if response in counts:\n",
    "            counts[response] += 1\n",
    "        else:\n",
    "            counts[response] = 1\n",
    "  \n",
    "    print(counts)\n",
    "    sortedVotes = sorted(counts.items(), key=operator.itemgetter(1), reverse=True)\n",
    "    print(sortedVotes)\n",
    "    return(sortedVotes[0][0], neighbors)"
   ]
  },
  {
   "cell_type": "code",
   "execution_count": 27,
   "metadata": {},
   "outputs": [
    {
     "name": "stdout",
     "output_type": "stream",
     "text": [
      "4\n",
      "[(57, 3.706750598570128), (8, 3.8065732621348567), (42, 3.817066936798463), (93, 3.8340579025361627), (38, 3.8431757701151272)]\n",
      "[(0, 4.32434966208793), (1, 4.196427051671457), (2, 4.057092555020159), (3, 3.8858718455450894), (4, 4.237924020083418)]\n",
      "{'Iris-setosa': 2, 'Iris-versicolor': 2, 'Iris-virginica': 0}\n",
      "[('Iris-setosa', 2), ('Iris-versicolor', 2), ('Iris-virginica', 0)]\n",
      "And the flower is: Iris-setosa\n",
      "the neighbors are: [57, 8, 42, 93]\n"
     ]
    }
   ],
   "source": [
    "testSet = [[1.4, 3.6, 3.4, 1.2]]\n",
    "test = pd.DataFrame(testSet)\n",
    "result,neigh = knn(iris, test, 4)#here we gave k=4\n",
    "print(\"And the flower is:\",result)\n",
    "print(\"the neighbors are:\",neigh)"
   ]
  }
 ],
 "metadata": {
  "kernelspec": {
   "display_name": "Python 3",
   "language": "python",
   "name": "python3"
  },
  "language_info": {
   "codemirror_mode": {
    "name": "ipython",
    "version": 3
   },
   "file_extension": ".py",
   "mimetype": "text/x-python",
   "name": "python",
   "nbconvert_exporter": "python",
   "pygments_lexer": "ipython3",
   "version": "3.9.1"
  }
 },
 "nbformat": 4,
 "nbformat_minor": 4
}
